{
 "cells": [
  {
   "cell_type": "code",
   "execution_count": 1,
   "id": "a2d05531",
   "metadata": {},
   "outputs": [],
   "source": [
    "import matplotlib.pyplot as plt\n",
    "import numpy as np\n",
    "import pandas as pd\n",
    "import seaborn as sns"
   ]
  },
  {
   "cell_type": "code",
   "execution_count": 2,
   "id": "b1752aa5",
   "metadata": {},
   "outputs": [],
   "source": [
    "df = pd.read_csv('data/Resale flat prices based on registration date from Jan-2017 onwards.csv')"
   ]
  },
  {
   "cell_type": "code",
   "execution_count": 3,
   "id": "cc5477ee",
   "metadata": {},
   "outputs": [
    {
     "data": {
      "text/html": [
       "<div>\n",
       "<style scoped>\n",
       "    .dataframe tbody tr th:only-of-type {\n",
       "        vertical-align: middle;\n",
       "    }\n",
       "\n",
       "    .dataframe tbody tr th {\n",
       "        vertical-align: top;\n",
       "    }\n",
       "\n",
       "    .dataframe thead th {\n",
       "        text-align: right;\n",
       "    }\n",
       "</style>\n",
       "<table border=\"1\" class=\"dataframe\">\n",
       "  <thead>\n",
       "    <tr style=\"text-align: right;\">\n",
       "      <th></th>\n",
       "      <th>month</th>\n",
       "      <th>town</th>\n",
       "      <th>flat_type</th>\n",
       "      <th>block</th>\n",
       "      <th>street_name</th>\n",
       "      <th>storey_range</th>\n",
       "      <th>floor_area_sqm</th>\n",
       "      <th>flat_model</th>\n",
       "      <th>lease_commence_date</th>\n",
       "      <th>remaining_lease</th>\n",
       "      <th>resale_price</th>\n",
       "    </tr>\n",
       "  </thead>\n",
       "  <tbody>\n",
       "    <tr>\n",
       "      <th>0</th>\n",
       "      <td>2017-01</td>\n",
       "      <td>ANG MO KIO</td>\n",
       "      <td>2 ROOM</td>\n",
       "      <td>406</td>\n",
       "      <td>ANG MO KIO AVE 10</td>\n",
       "      <td>10 TO 12</td>\n",
       "      <td>44.0</td>\n",
       "      <td>Improved</td>\n",
       "      <td>1979</td>\n",
       "      <td>61 years 04 months</td>\n",
       "      <td>232000.0</td>\n",
       "    </tr>\n",
       "    <tr>\n",
       "      <th>1</th>\n",
       "      <td>2017-01</td>\n",
       "      <td>ANG MO KIO</td>\n",
       "      <td>3 ROOM</td>\n",
       "      <td>108</td>\n",
       "      <td>ANG MO KIO AVE 4</td>\n",
       "      <td>01 TO 03</td>\n",
       "      <td>67.0</td>\n",
       "      <td>New Generation</td>\n",
       "      <td>1978</td>\n",
       "      <td>60 years 07 months</td>\n",
       "      <td>250000.0</td>\n",
       "    </tr>\n",
       "    <tr>\n",
       "      <th>2</th>\n",
       "      <td>2017-01</td>\n",
       "      <td>ANG MO KIO</td>\n",
       "      <td>3 ROOM</td>\n",
       "      <td>602</td>\n",
       "      <td>ANG MO KIO AVE 5</td>\n",
       "      <td>01 TO 03</td>\n",
       "      <td>67.0</td>\n",
       "      <td>New Generation</td>\n",
       "      <td>1980</td>\n",
       "      <td>62 years 05 months</td>\n",
       "      <td>262000.0</td>\n",
       "    </tr>\n",
       "    <tr>\n",
       "      <th>3</th>\n",
       "      <td>2017-01</td>\n",
       "      <td>ANG MO KIO</td>\n",
       "      <td>3 ROOM</td>\n",
       "      <td>465</td>\n",
       "      <td>ANG MO KIO AVE 10</td>\n",
       "      <td>04 TO 06</td>\n",
       "      <td>68.0</td>\n",
       "      <td>New Generation</td>\n",
       "      <td>1980</td>\n",
       "      <td>62 years 01 month</td>\n",
       "      <td>265000.0</td>\n",
       "    </tr>\n",
       "    <tr>\n",
       "      <th>4</th>\n",
       "      <td>2017-01</td>\n",
       "      <td>ANG MO KIO</td>\n",
       "      <td>3 ROOM</td>\n",
       "      <td>601</td>\n",
       "      <td>ANG MO KIO AVE 5</td>\n",
       "      <td>01 TO 03</td>\n",
       "      <td>67.0</td>\n",
       "      <td>New Generation</td>\n",
       "      <td>1980</td>\n",
       "      <td>62 years 05 months</td>\n",
       "      <td>265000.0</td>\n",
       "    </tr>\n",
       "    <tr>\n",
       "      <th>...</th>\n",
       "      <td>...</td>\n",
       "      <td>...</td>\n",
       "      <td>...</td>\n",
       "      <td>...</td>\n",
       "      <td>...</td>\n",
       "      <td>...</td>\n",
       "      <td>...</td>\n",
       "      <td>...</td>\n",
       "      <td>...</td>\n",
       "      <td>...</td>\n",
       "      <td>...</td>\n",
       "    </tr>\n",
       "    <tr>\n",
       "      <th>212064</th>\n",
       "      <td>2025-04</td>\n",
       "      <td>YISHUN</td>\n",
       "      <td>EXECUTIVE</td>\n",
       "      <td>828</td>\n",
       "      <td>YISHUN ST 81</td>\n",
       "      <td>04 TO 06</td>\n",
       "      <td>146.0</td>\n",
       "      <td>Maisonette</td>\n",
       "      <td>1988</td>\n",
       "      <td>61 years 09 months</td>\n",
       "      <td>975000.0</td>\n",
       "    </tr>\n",
       "    <tr>\n",
       "      <th>212065</th>\n",
       "      <td>2025-05</td>\n",
       "      <td>YISHUN</td>\n",
       "      <td>EXECUTIVE</td>\n",
       "      <td>828</td>\n",
       "      <td>YISHUN ST 81</td>\n",
       "      <td>04 TO 06</td>\n",
       "      <td>142.0</td>\n",
       "      <td>Apartment</td>\n",
       "      <td>1988</td>\n",
       "      <td>61 years 09 months</td>\n",
       "      <td>1000000.0</td>\n",
       "    </tr>\n",
       "    <tr>\n",
       "      <th>212066</th>\n",
       "      <td>2025-07</td>\n",
       "      <td>YISHUN</td>\n",
       "      <td>EXECUTIVE</td>\n",
       "      <td>824</td>\n",
       "      <td>YISHUN ST 81</td>\n",
       "      <td>04 TO 06</td>\n",
       "      <td>146.0</td>\n",
       "      <td>Maisonette</td>\n",
       "      <td>1987</td>\n",
       "      <td>61 years 05 months</td>\n",
       "      <td>980000.0</td>\n",
       "    </tr>\n",
       "    <tr>\n",
       "      <th>212067</th>\n",
       "      <td>2025-05</td>\n",
       "      <td>YISHUN</td>\n",
       "      <td>MULTI-GENERATION</td>\n",
       "      <td>632</td>\n",
       "      <td>YISHUN ST 61</td>\n",
       "      <td>04 TO 06</td>\n",
       "      <td>147.0</td>\n",
       "      <td>Multi Generation</td>\n",
       "      <td>1987</td>\n",
       "      <td>61 years 06 months</td>\n",
       "      <td>945000.0</td>\n",
       "    </tr>\n",
       "    <tr>\n",
       "      <th>212068</th>\n",
       "      <td>2025-07</td>\n",
       "      <td>YISHUN</td>\n",
       "      <td>MULTI-GENERATION</td>\n",
       "      <td>633</td>\n",
       "      <td>YISHUN ST 61</td>\n",
       "      <td>01 TO 03</td>\n",
       "      <td>171.0</td>\n",
       "      <td>Multi Generation</td>\n",
       "      <td>1987</td>\n",
       "      <td>61 years 06 months</td>\n",
       "      <td>1095000.0</td>\n",
       "    </tr>\n",
       "  </tbody>\n",
       "</table>\n",
       "<p>212069 rows × 11 columns</p>\n",
       "</div>"
      ],
      "text/plain": [
       "          month        town         flat_type block        street_name  \\\n",
       "0       2017-01  ANG MO KIO            2 ROOM   406  ANG MO KIO AVE 10   \n",
       "1       2017-01  ANG MO KIO            3 ROOM   108   ANG MO KIO AVE 4   \n",
       "2       2017-01  ANG MO KIO            3 ROOM   602   ANG MO KIO AVE 5   \n",
       "3       2017-01  ANG MO KIO            3 ROOM   465  ANG MO KIO AVE 10   \n",
       "4       2017-01  ANG MO KIO            3 ROOM   601   ANG MO KIO AVE 5   \n",
       "...         ...         ...               ...   ...                ...   \n",
       "212064  2025-04      YISHUN         EXECUTIVE   828       YISHUN ST 81   \n",
       "212065  2025-05      YISHUN         EXECUTIVE   828       YISHUN ST 81   \n",
       "212066  2025-07      YISHUN         EXECUTIVE   824       YISHUN ST 81   \n",
       "212067  2025-05      YISHUN  MULTI-GENERATION   632       YISHUN ST 61   \n",
       "212068  2025-07      YISHUN  MULTI-GENERATION   633       YISHUN ST 61   \n",
       "\n",
       "       storey_range  floor_area_sqm        flat_model  lease_commence_date  \\\n",
       "0          10 TO 12            44.0          Improved                 1979   \n",
       "1          01 TO 03            67.0    New Generation                 1978   \n",
       "2          01 TO 03            67.0    New Generation                 1980   \n",
       "3          04 TO 06            68.0    New Generation                 1980   \n",
       "4          01 TO 03            67.0    New Generation                 1980   \n",
       "...             ...             ...               ...                  ...   \n",
       "212064     04 TO 06           146.0        Maisonette                 1988   \n",
       "212065     04 TO 06           142.0         Apartment                 1988   \n",
       "212066     04 TO 06           146.0        Maisonette                 1987   \n",
       "212067     04 TO 06           147.0  Multi Generation                 1987   \n",
       "212068     01 TO 03           171.0  Multi Generation                 1987   \n",
       "\n",
       "           remaining_lease  resale_price  \n",
       "0       61 years 04 months      232000.0  \n",
       "1       60 years 07 months      250000.0  \n",
       "2       62 years 05 months      262000.0  \n",
       "3        62 years 01 month      265000.0  \n",
       "4       62 years 05 months      265000.0  \n",
       "...                    ...           ...  \n",
       "212064  61 years 09 months      975000.0  \n",
       "212065  61 years 09 months     1000000.0  \n",
       "212066  61 years 05 months      980000.0  \n",
       "212067  61 years 06 months      945000.0  \n",
       "212068  61 years 06 months     1095000.0  \n",
       "\n",
       "[212069 rows x 11 columns]"
      ]
     },
     "execution_count": 3,
     "metadata": {},
     "output_type": "execute_result"
    }
   ],
   "source": [
    "df"
   ]
  },
  {
   "cell_type": "code",
   "execution_count": 4,
   "id": "d499a198",
   "metadata": {},
   "outputs": [
    {
     "data": {
      "text/plain": [
       "Index(['month', 'town', 'flat_type', 'block', 'street_name', 'storey_range',\n",
       "       'floor_area_sqm', 'flat_model', 'lease_commence_date',\n",
       "       'remaining_lease', 'resale_price'],\n",
       "      dtype='object')"
      ]
     },
     "execution_count": 4,
     "metadata": {},
     "output_type": "execute_result"
    }
   ],
   "source": [
    "df.columns"
   ]
  },
  {
   "cell_type": "code",
   "execution_count": 8,
   "id": "911f5469",
   "metadata": {},
   "outputs": [
    {
     "data": {
      "text/plain": [
       "month                   object\n",
       "town                    object\n",
       "flat_type               object\n",
       "block                   object\n",
       "street_name             object\n",
       "storey_range            object\n",
       "floor_area_sqm         float64\n",
       "flat_model              object\n",
       "lease_commence_date      int64\n",
       "remaining_lease         object\n",
       "resale_price           float64\n",
       "dtype: object"
      ]
     },
     "execution_count": 8,
     "metadata": {},
     "output_type": "execute_result"
    }
   ],
   "source": [
    "df.dtypes"
   ]
  },
  {
   "cell_type": "code",
   "execution_count": 9,
   "id": "7d6b0a9d",
   "metadata": {},
   "outputs": [
    {
     "data": {
      "text/plain": [
       "[<matplotlib.lines.Line2D at 0x22b72e491d0>]"
      ]
     },
     "execution_count": 9,
     "metadata": {},
     "output_type": "execute_result"
    },
    {
     "data": {
      "image/png": "[encoded data removed]",
      "text/plain": [
       "<Figure size 640x480 with 1 Axes>"
      ]
     },
     "metadata": {},
     "output_type": "display_data"
    }
   ],
   "source": [
    "plt.plot(df['floor_area_sqm'], df['resale_price'], 'o')"
   ]
  },
  {
   "cell_type": "code",
   "execution_count": 10,
   "id": "64940534",
   "metadata": {},
   "outputs": [
    {
     "data": {
      "text/plain": [
       "[<matplotlib.lines.Line2D at 0x22b72f36710>]"
      ]
     },
     "execution_count": 10,
     "metadata": {},
     "output_type": "execute_result"
    },
    {
     "data": {
      "image/png": "[encoded data removed]",
      "text/plain": [
       "<Figure size 640x480 with 1 Axes>"
      ]
     },
     "metadata": {},
     "output_type": "display_data"
    }
   ],
   "source": [
    "plt.plot(df['lease_commence_date'], df['resale_price'], 'o')"
   ]
  },
  {
   "cell_type": "code",
   "execution_count": 11,
   "id": "19a1ce80",
   "metadata": {},
   "outputs": [
    {
     "data": {
      "text/plain": [
       "array(['Improved', 'New Generation', 'DBSS', 'Standard', 'Apartment',\n",
       "       'Simplified', 'Model A', 'Premium Apartment', 'Adjoined flat',\n",
       "       'Model A-Maisonette', 'Maisonette', 'Type S1', 'Type S2',\n",
       "       'Model A2', 'Terrace', 'Improved-Maisonette', 'Premium Maisonette',\n",
       "       'Multi Generation', 'Premium Apartment Loft', '2-room', '3Gen'],\n",
       "      dtype=object)"
      ]
     },
     "execution_count": 11,
     "metadata": {},
     "output_type": "execute_result"
    }
   ],
   "source": [
    "df['flat_model'].unique()"
   ]
  },
  {
   "cell_type": "code",
   "execution_count": 25,
   "id": "2fdeeab3",
   "metadata": {},
   "outputs": [
    {
     "data": {
      "text/html": [
       "<div>\n",
       "<style scoped>\n",
       "    .dataframe tbody tr th:only-of-type {\n",
       "        vertical-align: middle;\n",
       "    }\n",
       "\n",
       "    .dataframe tbody tr th {\n",
       "        vertical-align: top;\n",
       "    }\n",
       "\n",
       "    .dataframe thead th {\n",
       "        text-align: right;\n",
       "    }\n",
       "</style>\n",
       "<table border=\"1\" class=\"dataframe\">\n",
       "  <thead>\n",
       "    <tr style=\"text-align: right;\">\n",
       "      <th></th>\n",
       "      <th>month</th>\n",
       "      <th>town</th>\n",
       "      <th>flat_type</th>\n",
       "      <th>block</th>\n",
       "      <th>street_name</th>\n",
       "      <th>storey_range</th>\n",
       "      <th>floor_area_sqm</th>\n",
       "      <th>flat_model</th>\n",
       "      <th>lease_commence_date</th>\n",
       "      <th>remaining_lease</th>\n",
       "      <th>resale_price</th>\n",
       "    </tr>\n",
       "  </thead>\n",
       "  <tbody>\n",
       "  </tbody>\n",
       "</table>\n",
       "</div>"
      ],
      "text/plain": [
       "Empty DataFrame\n",
       "Columns: [month, town, flat_type, block, street_name, storey_range, floor_area_sqm, flat_model, lease_commence_date, remaining_lease, resale_price]\n",
       "Index: []"
      ]
     },
     "execution_count": 25,
     "metadata": {},
     "output_type": "execute_result"
    }
   ],
   "source": [
    "df[~df['remaining_lease'].str.match(r'(?:(\\d+)\\s*years?)?\\s*(?:(\\d+)\\s*months?)?')]"
   ]
  },
  {
   "cell_type": "code",
   "execution_count": 26,
   "id": "cb72c1ed",
   "metadata": {},
   "outputs": [],
   "source": [
    "import re\n",
    "\n",
    "def convert_lease_date_to_remaining_months(period):\n",
    "    if pd.isnull(period):\n",
    "        return np.nan\n",
    "    \n",
    "    matches = re.search(r'(?:(\\d+)\\s*years?)?\\s*(?:(\\d+)\\s*months?)?', period)\n",
    "    years = int(matches.group(1)) if matches.group(1) else 0\n",
    "    months = int(matches.group(2)) if matches.group(2) else 0\n",
    "    return years * 12 + months\n",
    "    \n",
    "\n",
    "df['remaining_lease_months'] = df['remaining_lease'].apply(convert_lease_date_to_remaining_months)"
   ]
  },
  {
   "cell_type": "code",
   "execution_count": 27,
   "id": "fbb19fa0",
   "metadata": {},
   "outputs": [
    {
     "data": {
      "text/html": [
       "<div>\n",
       "<style scoped>\n",
       "    .dataframe tbody tr th:only-of-type {\n",
       "        vertical-align: middle;\n",
       "    }\n",
       "\n",
       "    .dataframe tbody tr th {\n",
       "        vertical-align: top;\n",
       "    }\n",
       "\n",
       "    .dataframe thead th {\n",
       "        text-align: right;\n",
       "    }\n",
       "</style>\n",
       "<table border=\"1\" class=\"dataframe\">\n",
       "  <thead>\n",
       "    <tr style=\"text-align: right;\">\n",
       "      <th></th>\n",
       "      <th>month</th>\n",
       "      <th>town</th>\n",
       "      <th>flat_type</th>\n",
       "      <th>block</th>\n",
       "      <th>street_name</th>\n",
       "      <th>storey_range</th>\n",
       "      <th>floor_area_sqm</th>\n",
       "      <th>flat_model</th>\n",
       "      <th>lease_commence_date</th>\n",
       "      <th>remaining_lease</th>\n",
       "      <th>resale_price</th>\n",
       "      <th>remaining_lease_months</th>\n",
       "    </tr>\n",
       "  </thead>\n",
       "  <tbody>\n",
       "    <tr>\n",
       "      <th>0</th>\n",
       "      <td>2017-01</td>\n",
       "      <td>ANG MO KIO</td>\n",
       "      <td>2 ROOM</td>\n",
       "      <td>406</td>\n",
       "      <td>ANG MO KIO AVE 10</td>\n",
       "      <td>10 TO 12</td>\n",
       "      <td>44.0</td>\n",
       "      <td>Improved</td>\n",
       "      <td>1979</td>\n",
       "      <td>61 years 04 months</td>\n",
       "      <td>232000.0</td>\n",
       "      <td>736</td>\n",
       "    </tr>\n",
       "    <tr>\n",
       "      <th>1</th>\n",
       "      <td>2017-01</td>\n",
       "      <td>ANG MO KIO</td>\n",
       "      <td>3 ROOM</td>\n",
       "      <td>108</td>\n",
       "      <td>ANG MO KIO AVE 4</td>\n",
       "      <td>01 TO 03</td>\n",
       "      <td>67.0</td>\n",
       "      <td>New Generation</td>\n",
       "      <td>1978</td>\n",
       "      <td>60 years 07 months</td>\n",
       "      <td>250000.0</td>\n",
       "      <td>727</td>\n",
       "    </tr>\n",
       "    <tr>\n",
       "      <th>2</th>\n",
       "      <td>2017-01</td>\n",
       "      <td>ANG MO KIO</td>\n",
       "      <td>3 ROOM</td>\n",
       "      <td>602</td>\n",
       "      <td>ANG MO KIO AVE 5</td>\n",
       "      <td>01 TO 03</td>\n",
       "      <td>67.0</td>\n",
       "      <td>New Generation</td>\n",
       "      <td>1980</td>\n",
       "      <td>62 years 05 months</td>\n",
       "      <td>262000.0</td>\n",
       "      <td>749</td>\n",
       "    </tr>\n",
       "    <tr>\n",
       "      <th>3</th>\n",
       "      <td>2017-01</td>\n",
       "      <td>ANG MO KIO</td>\n",
       "      <td>3 ROOM</td>\n",
       "      <td>465</td>\n",
       "      <td>ANG MO KIO AVE 10</td>\n",
       "      <td>04 TO 06</td>\n",
       "      <td>68.0</td>\n",
       "      <td>New Generation</td>\n",
       "      <td>1980</td>\n",
       "      <td>62 years 01 month</td>\n",
       "      <td>265000.0</td>\n",
       "      <td>745</td>\n",
       "    </tr>\n",
       "    <tr>\n",
       "      <th>4</th>\n",
       "      <td>2017-01</td>\n",
       "      <td>ANG MO KIO</td>\n",
       "      <td>3 ROOM</td>\n",
       "      <td>601</td>\n",
       "      <td>ANG MO KIO AVE 5</td>\n",
       "      <td>01 TO 03</td>\n",
       "      <td>67.0</td>\n",
       "      <td>New Generation</td>\n",
       "      <td>1980</td>\n",
       "      <td>62 years 05 months</td>\n",
       "      <td>265000.0</td>\n",
       "      <td>749</td>\n",
       "    </tr>\n",
       "  </tbody>\n",
       "</table>\n",
       "</div>"
      ],
      "text/plain": [
       "     month        town flat_type block        street_name storey_range  \\\n",
       "0  2017-01  ANG MO KIO    2 ROOM   406  ANG MO KIO AVE 10     10 TO 12   \n",
       "1  2017-01  ANG MO KIO    3 ROOM   108   ANG MO KIO AVE 4     01 TO 03   \n",
       "2  2017-01  ANG MO KIO    3 ROOM   602   ANG MO KIO AVE 5     01 TO 03   \n",
       "3  2017-01  ANG MO KIO    3 ROOM   465  ANG MO KIO AVE 10     04 TO 06   \n",
       "4  2017-01  ANG MO KIO    3 ROOM   601   ANG MO KIO AVE 5     01 TO 03   \n",
       "\n",
       "   floor_area_sqm      flat_model  lease_commence_date     remaining_lease  \\\n",
       "0            44.0        Improved                 1979  61 years 04 months   \n",
       "1            67.0  New Generation                 1978  60 years 07 months   \n",
       "2            67.0  New Generation                 1980  62 years 05 months   \n",
       "3            68.0  New Generation                 1980   62 years 01 month   \n",
       "4            67.0  New Generation                 1980  62 years 05 months   \n",
       "\n",
       "   resale_price  remaining_lease_months  \n",
       "0      232000.0                     736  \n",
       "1      250000.0                     727  \n",
       "2      262000.0                     749  \n",
       "3      265000.0                     745  \n",
       "4      265000.0                     749  "
      ]
     },
     "execution_count": 27,
     "metadata": {},
     "output_type": "execute_result"
    }
   ],
   "source": [
    "df.head()"
   ]
  },
  {
   "cell_type": "code",
   "execution_count": 29,
   "id": "9c4d1962",
   "metadata": {},
   "outputs": [
    {
     "data": {
      "text/plain": [
       "count    212069.000000\n",
       "mean        892.365881\n",
       "std         170.037127\n",
       "min         481.000000\n",
       "25%         752.000000\n",
       "50%         890.000000\n",
       "75%        1064.000000\n",
       "max        1173.000000\n",
       "Name: remaining_lease_months, dtype: float64"
      ]
     },
     "execution_count": 29,
     "metadata": {},
     "output_type": "execute_result"
    }
   ],
   "source": [
    "df['remaining_lease_months'].describe()"
   ]
  },
  {
   "cell_type": "code",
   "execution_count": 28,
   "id": "ab86fdf6",
   "metadata": {},
   "outputs": [
    {
     "data": {
      "text/plain": [
       "[<matplotlib.lines.Line2D at 0x22b7b1d9bd0>]"
      ]
     },
     "execution_count": 28,
     "metadata": {},
     "output_type": "execute_result"
    },
    {
     "data": {
      "image/png": "[encoded data removed]",
      "text/plain": [
       "<Figure size 640x480 with 1 Axes>"
      ]
     },
     "metadata": {},
     "output_type": "display_data"
    }
   ],
   "source": [
    "plt.plot(df['remaining_lease_months'], df['resale_price'], 'o')"
   ]
  },
  {
   "cell_type": "code",
   "execution_count": 31,
   "id": "719f7bab",
   "metadata": {},
   "outputs": [
    {
     "data": {
      "text/plain": [
       "array(['10 TO 12', '01 TO 03', '04 TO 06', '07 TO 09', '13 TO 15',\n",
       "       '19 TO 21', '22 TO 24', '16 TO 18', '34 TO 36', '28 TO 30',\n",
       "       '37 TO 39', '49 TO 51', '25 TO 27', '40 TO 42', '31 TO 33',\n",
       "       '46 TO 48', '43 TO 45'], dtype=object)"
      ]
     },
     "execution_count": 31,
     "metadata": {},
     "output_type": "execute_result"
    }
   ],
   "source": [
    "df['storey_range'].unique()"
   ]
  },
  {
   "cell_type": "code",
   "execution_count": 32,
   "id": "fa92a93f",
   "metadata": {},
   "outputs": [],
   "source": [
    "def convert_storey_range_to_storey(storey_range):\n",
    "    if pd.isnull(storey_range):\n",
    "        return np.nan\n",
    "    \n",
    "    matches = re.search(r'(\\d+) TO (\\d+)', storey_range)\n",
    "    lower = int(matches.group(1)) if matches.group(1) else 0\n",
    "    upper = int(matches.group(2)) if matches.group(2) else 0\n",
    "    return (lower + upper) // 2\n",
    "\n",
    "df['storey'] = df['storey_range'].apply(convert_storey_range_to_storey)"
   ]
  },
  {
   "cell_type": "code",
   "execution_count": 34,
   "id": "40733dd8",
   "metadata": {},
   "outputs": [
    {
     "data": {
      "text/plain": [
       "np.int64(0)"
      ]
     },
     "execution_count": 34,
     "metadata": {},
     "output_type": "execute_result"
    }
   ],
   "source": [
    "df['storey'].isna().sum()"
   ]
  },
  {
   "cell_type": "code",
   "execution_count": 35,
   "id": "896df4e4",
   "metadata": {},
   "outputs": [
    {
     "data": {
      "text/plain": [
       "[<matplotlib.lines.Line2D at 0x22b7b296210>]"
      ]
     },
     "execution_count": 35,
     "metadata": {},
     "output_type": "execute_result"
    },
    {
     "data": {
      "image/png": "[encoded data removed]",
      "text/plain": [
       "<Figure size 640x480 with 1 Axes>"
      ]
     },
     "metadata": {},
     "output_type": "display_data"
    }
   ],
   "source": [
    "plt.plot(df['storey'], df['resale_price'], 'o')"
   ]
  },
  {
   "cell_type": "code",
   "execution_count": 51,
   "id": "b5627492",
   "metadata": {},
   "outputs": [],
   "source": [
    "def months_to_today(month):\n",
    "    if pd.isnull(month):\n",
    "        return np.nan\n",
    "    year, month = map(int, month.split('-'))\n",
    "    today = pd.Timestamp.now()\n",
    "    return (today.year - year) * 12 + (today.month - month)\n",
    "\n",
    "df['month_count'] = df['month'].apply(months_to_today)"
   ]
  },
  {
   "cell_type": "code",
   "execution_count": 53,
   "id": "bbf64285",
   "metadata": {},
   "outputs": [
    {
     "data": {
      "text/html": [
       "<div>\n",
       "<style scoped>\n",
       "    .dataframe tbody tr th:only-of-type {\n",
       "        vertical-align: middle;\n",
       "    }\n",
       "\n",
       "    .dataframe tbody tr th {\n",
       "        vertical-align: top;\n",
       "    }\n",
       "\n",
       "    .dataframe thead th {\n",
       "        text-align: right;\n",
       "    }\n",
       "</style>\n",
       "<table border=\"1\" class=\"dataframe\">\n",
       "  <thead>\n",
       "    <tr style=\"text-align: right;\">\n",
       "      <th></th>\n",
       "      <th>month</th>\n",
       "      <th>town</th>\n",
       "      <th>flat_type</th>\n",
       "      <th>block</th>\n",
       "      <th>street_name</th>\n",
       "      <th>storey_range</th>\n",
       "      <th>floor_area_sqm</th>\n",
       "      <th>flat_model</th>\n",
       "      <th>lease_commence_date</th>\n",
       "      <th>remaining_lease</th>\n",
       "      <th>resale_price</th>\n",
       "      <th>remaining_lease_months</th>\n",
       "      <th>storey</th>\n",
       "      <th>year</th>\n",
       "      <th>month_count</th>\n",
       "    </tr>\n",
       "  </thead>\n",
       "  <tbody>\n",
       "    <tr>\n",
       "      <th>212064</th>\n",
       "      <td>2025-04</td>\n",
       "      <td>YISHUN</td>\n",
       "      <td>EXECUTIVE</td>\n",
       "      <td>828</td>\n",
       "      <td>YISHUN ST 81</td>\n",
       "      <td>04 TO 06</td>\n",
       "      <td>146.0</td>\n",
       "      <td>Maisonette</td>\n",
       "      <td>1988</td>\n",
       "      <td>61 years 09 months</td>\n",
       "      <td>975000.0</td>\n",
       "      <td>741</td>\n",
       "      <td>5</td>\n",
       "      <td>2025</td>\n",
       "      <td>3</td>\n",
       "    </tr>\n",
       "    <tr>\n",
       "      <th>212065</th>\n",
       "      <td>2025-05</td>\n",
       "      <td>YISHUN</td>\n",
       "      <td>EXECUTIVE</td>\n",
       "      <td>828</td>\n",
       "      <td>YISHUN ST 81</td>\n",
       "      <td>04 TO 06</td>\n",
       "      <td>142.0</td>\n",
       "      <td>Apartment</td>\n",
       "      <td>1988</td>\n",
       "      <td>61 years 09 months</td>\n",
       "      <td>1000000.0</td>\n",
       "      <td>741</td>\n",
       "      <td>5</td>\n",
       "      <td>2025</td>\n",
       "      <td>2</td>\n",
       "    </tr>\n",
       "    <tr>\n",
       "      <th>212066</th>\n",
       "      <td>2025-07</td>\n",
       "      <td>YISHUN</td>\n",
       "      <td>EXECUTIVE</td>\n",
       "      <td>824</td>\n",
       "      <td>YISHUN ST 81</td>\n",
       "      <td>04 TO 06</td>\n",
       "      <td>146.0</td>\n",
       "      <td>Maisonette</td>\n",
       "      <td>1987</td>\n",
       "      <td>61 years 05 months</td>\n",
       "      <td>980000.0</td>\n",
       "      <td>737</td>\n",
       "      <td>5</td>\n",
       "      <td>2025</td>\n",
       "      <td>0</td>\n",
       "    </tr>\n",
       "    <tr>\n",
       "      <th>212067</th>\n",
       "      <td>2025-05</td>\n",
       "      <td>YISHUN</td>\n",
       "      <td>MULTI-GENERATION</td>\n",
       "      <td>632</td>\n",
       "      <td>YISHUN ST 61</td>\n",
       "      <td>04 TO 06</td>\n",
       "      <td>147.0</td>\n",
       "      <td>Multi Generation</td>\n",
       "      <td>1987</td>\n",
       "      <td>61 years 06 months</td>\n",
       "      <td>945000.0</td>\n",
       "      <td>738</td>\n",
       "      <td>5</td>\n",
       "      <td>2025</td>\n",
       "      <td>2</td>\n",
       "    </tr>\n",
       "    <tr>\n",
       "      <th>212068</th>\n",
       "      <td>2025-07</td>\n",
       "      <td>YISHUN</td>\n",
       "      <td>MULTI-GENERATION</td>\n",
       "      <td>633</td>\n",
       "      <td>YISHUN ST 61</td>\n",
       "      <td>01 TO 03</td>\n",
       "      <td>171.0</td>\n",
       "      <td>Multi Generation</td>\n",
       "      <td>1987</td>\n",
       "      <td>61 years 06 months</td>\n",
       "      <td>1095000.0</td>\n",
       "      <td>738</td>\n",
       "      <td>2</td>\n",
       "      <td>2025</td>\n",
       "      <td>0</td>\n",
       "    </tr>\n",
       "  </tbody>\n",
       "</table>\n",
       "</div>"
      ],
      "text/plain": [
       "          month    town         flat_type block   street_name storey_range  \\\n",
       "212064  2025-04  YISHUN         EXECUTIVE   828  YISHUN ST 81     04 TO 06   \n",
       "212065  2025-05  YISHUN         EXECUTIVE   828  YISHUN ST 81     04 TO 06   \n",
       "212066  2025-07  YISHUN         EXECUTIVE   824  YISHUN ST 81     04 TO 06   \n",
       "212067  2025-05  YISHUN  MULTI-GENERATION   632  YISHUN ST 61     04 TO 06   \n",
       "212068  2025-07  YISHUN  MULTI-GENERATION   633  YISHUN ST 61     01 TO 03   \n",
       "\n",
       "        floor_area_sqm        flat_model  lease_commence_date  \\\n",
       "212064           146.0        Maisonette                 1988   \n",
       "212065           142.0         Apartment                 1988   \n",
       "212066           146.0        Maisonette                 1987   \n",
       "212067           147.0  Multi Generation                 1987   \n",
       "212068           171.0  Multi Generation                 1987   \n",
       "\n",
       "           remaining_lease  resale_price  remaining_lease_months  storey  \\\n",
       "212064  61 years 09 months      975000.0                     741       5   \n",
       "212065  61 years 09 months     1000000.0                     741       5   \n",
       "212066  61 years 05 months      980000.0                     737       5   \n",
       "212067  61 years 06 months      945000.0                     738       5   \n",
       "212068  61 years 06 months     1095000.0                     738       2   \n",
       "\n",
       "        year  month_count  \n",
       "212064  2025            3  \n",
       "212065  2025            2  \n",
       "212066  2025            0  \n",
       "212067  2025            2  \n",
       "212068  2025            0  "
      ]
     },
     "execution_count": 53,
     "metadata": {},
     "output_type": "execute_result"
    }
   ],
   "source": [
    "df.tail()"
   ]
  },
  {
   "cell_type": "code",
   "execution_count": 54,
   "id": "d9a6dad8",
   "metadata": {},
   "outputs": [
    {
     "data": {
      "text/plain": [
       "count    212069.00000\n",
       "mean         48.09528\n",
       "std          28.93848\n",
       "min           0.00000\n",
       "25%          23.00000\n",
       "50%          47.00000\n",
       "75%          72.00000\n",
       "max         102.00000\n",
       "Name: month_count, dtype: float64"
      ]
     },
     "execution_count": 54,
     "metadata": {},
     "output_type": "execute_result"
    }
   ],
   "source": [
    "df['month_count'].describe()"
   ]
  },
  {
   "cell_type": "code",
   "execution_count": 59,
   "id": "283ddb5a",
   "metadata": {},
   "outputs": [],
   "source": [
    "df['resale_price_thousand'] = df['resale_price'] / 1000"
   ]
  },
  {
   "cell_type": "code",
   "execution_count": 60,
   "id": "2b7dfc24",
   "metadata": {},
   "outputs": [],
   "source": [
    "df_processed = df[['month_count', 'storey', 'remaining_lease_months', 'floor_area_sqm', 'resale_price_thousand']].dropna()"
   ]
  },
  {
   "cell_type": "code",
   "execution_count": 61,
   "id": "215ac567",
   "metadata": {},
   "outputs": [
    {
     "data": {
      "text/html": [
       "<div>\n",
       "<style scoped>\n",
       "    .dataframe tbody tr th:only-of-type {\n",
       "        vertical-align: middle;\n",
       "    }\n",
       "\n",
       "    .dataframe tbody tr th {\n",
       "        vertical-align: top;\n",
       "    }\n",
       "\n",
       "    .dataframe thead th {\n",
       "        text-align: right;\n",
       "    }\n",
       "</style>\n",
       "<table border=\"1\" class=\"dataframe\">\n",
       "  <thead>\n",
       "    <tr style=\"text-align: right;\">\n",
       "      <th></th>\n",
       "      <th>month_count</th>\n",
       "      <th>storey</th>\n",
       "      <th>remaining_lease_months</th>\n",
       "      <th>floor_area_sqm</th>\n",
       "      <th>resale_price_thousand</th>\n",
       "    </tr>\n",
       "  </thead>\n",
       "  <tbody>\n",
       "    <tr>\n",
       "      <th>0</th>\n",
       "      <td>102</td>\n",
       "      <td>11</td>\n",
       "      <td>736</td>\n",
       "      <td>44.0</td>\n",
       "      <td>232.0</td>\n",
       "    </tr>\n",
       "    <tr>\n",
       "      <th>1</th>\n",
       "      <td>102</td>\n",
       "      <td>2</td>\n",
       "      <td>727</td>\n",
       "      <td>67.0</td>\n",
       "      <td>250.0</td>\n",
       "    </tr>\n",
       "    <tr>\n",
       "      <th>2</th>\n",
       "      <td>102</td>\n",
       "      <td>2</td>\n",
       "      <td>749</td>\n",
       "      <td>67.0</td>\n",
       "      <td>262.0</td>\n",
       "    </tr>\n",
       "    <tr>\n",
       "      <th>3</th>\n",
       "      <td>102</td>\n",
       "      <td>5</td>\n",
       "      <td>745</td>\n",
       "      <td>68.0</td>\n",
       "      <td>265.0</td>\n",
       "    </tr>\n",
       "    <tr>\n",
       "      <th>4</th>\n",
       "      <td>102</td>\n",
       "      <td>2</td>\n",
       "      <td>749</td>\n",
       "      <td>67.0</td>\n",
       "      <td>265.0</td>\n",
       "    </tr>\n",
       "  </tbody>\n",
       "</table>\n",
       "</div>"
      ],
      "text/plain": [
       "   month_count  storey  remaining_lease_months  floor_area_sqm  \\\n",
       "0          102      11                     736            44.0   \n",
       "1          102       2                     727            67.0   \n",
       "2          102       2                     749            67.0   \n",
       "3          102       5                     745            68.0   \n",
       "4          102       2                     749            67.0   \n",
       "\n",
       "   resale_price_thousand  \n",
       "0                  232.0  \n",
       "1                  250.0  \n",
       "2                  262.0  \n",
       "3                  265.0  \n",
       "4                  265.0  "
      ]
     },
     "execution_count": 61,
     "metadata": {},
     "output_type": "execute_result"
    }
   ],
   "source": [
    "df_processed.head()"
   ]
  },
  {
   "cell_type": "code",
   "execution_count": 62,
   "id": "07f16637",
   "metadata": {},
   "outputs": [
    {
     "data": {
      "text/html": [
       "<div>\n",
       "<style scoped>\n",
       "    .dataframe tbody tr th:only-of-type {\n",
       "        vertical-align: middle;\n",
       "    }\n",
       "\n",
       "    .dataframe tbody tr th {\n",
       "        vertical-align: top;\n",
       "    }\n",
       "\n",
       "    .dataframe thead th {\n",
       "        text-align: right;\n",
       "    }\n",
       "</style>\n",
       "<table border=\"1\" class=\"dataframe\">\n",
       "  <thead>\n",
       "    <tr style=\"text-align: right;\">\n",
       "      <th></th>\n",
       "      <th>month_count</th>\n",
       "      <th>storey</th>\n",
       "      <th>remaining_lease_months</th>\n",
       "      <th>floor_area_sqm</th>\n",
       "      <th>resale_price_thousand</th>\n",
       "    </tr>\n",
       "  </thead>\n",
       "  <tbody>\n",
       "    <tr>\n",
       "      <th>count</th>\n",
       "      <td>212069.00000</td>\n",
       "      <td>212069.000000</td>\n",
       "      <td>212069.000000</td>\n",
       "      <td>212069.000000</td>\n",
       "      <td>212069.000000</td>\n",
       "    </tr>\n",
       "    <tr>\n",
       "      <th>mean</th>\n",
       "      <td>48.09528</td>\n",
       "      <td>8.762035</td>\n",
       "      <td>892.365881</td>\n",
       "      <td>96.848015</td>\n",
       "      <td>518.180380</td>\n",
       "    </tr>\n",
       "    <tr>\n",
       "      <th>std</th>\n",
       "      <td>28.93848</td>\n",
       "      <td>5.935159</td>\n",
       "      <td>170.037127</td>\n",
       "      <td>24.032285</td>\n",
       "      <td>183.060012</td>\n",
       "    </tr>\n",
       "    <tr>\n",
       "      <th>min</th>\n",
       "      <td>0.00000</td>\n",
       "      <td>2.000000</td>\n",
       "      <td>481.000000</td>\n",
       "      <td>31.000000</td>\n",
       "      <td>140.000000</td>\n",
       "    </tr>\n",
       "    <tr>\n",
       "      <th>25%</th>\n",
       "      <td>23.00000</td>\n",
       "      <td>5.000000</td>\n",
       "      <td>752.000000</td>\n",
       "      <td>82.000000</td>\n",
       "      <td>380.000000</td>\n",
       "    </tr>\n",
       "    <tr>\n",
       "      <th>50%</th>\n",
       "      <td>47.00000</td>\n",
       "      <td>8.000000</td>\n",
       "      <td>890.000000</td>\n",
       "      <td>93.000000</td>\n",
       "      <td>486.000000</td>\n",
       "    </tr>\n",
       "    <tr>\n",
       "      <th>75%</th>\n",
       "      <td>72.00000</td>\n",
       "      <td>11.000000</td>\n",
       "      <td>1064.000000</td>\n",
       "      <td>112.000000</td>\n",
       "      <td>620.000000</td>\n",
       "    </tr>\n",
       "    <tr>\n",
       "      <th>max</th>\n",
       "      <td>102.00000</td>\n",
       "      <td>50.000000</td>\n",
       "      <td>1173.000000</td>\n",
       "      <td>366.700000</td>\n",
       "      <td>1658.888000</td>\n",
       "    </tr>\n",
       "  </tbody>\n",
       "</table>\n",
       "</div>"
      ],
      "text/plain": [
       "        month_count         storey  remaining_lease_months  floor_area_sqm  \\\n",
       "count  212069.00000  212069.000000           212069.000000   212069.000000   \n",
       "mean       48.09528       8.762035              892.365881       96.848015   \n",
       "std        28.93848       5.935159              170.037127       24.032285   \n",
       "min         0.00000       2.000000              481.000000       31.000000   \n",
       "25%        23.00000       5.000000              752.000000       82.000000   \n",
       "50%        47.00000       8.000000              890.000000       93.000000   \n",
       "75%        72.00000      11.000000             1064.000000      112.000000   \n",
       "max       102.00000      50.000000             1173.000000      366.700000   \n",
       "\n",
       "       resale_price_thousand  \n",
       "count          212069.000000  \n",
       "mean              518.180380  \n",
       "std               183.060012  \n",
       "min               140.000000  \n",
       "25%               380.000000  \n",
       "50%               486.000000  \n",
       "75%               620.000000  \n",
       "max              1658.888000  "
      ]
     },
     "execution_count": 62,
     "metadata": {},
     "output_type": "execute_result"
    }
   ],
   "source": [
    "df_processed.describe()"
   ]
  },
  {
   "cell_type": "code",
   "execution_count": 66,
   "id": "ca109d17",
   "metadata": {},
   "outputs": [
    {
     "name": "stdout",
     "output_type": "stream",
     "text": [
      "Mean Squared Error: 11731.417835237124\n",
      "R^2 Score: 0.6491912872998054\n"
     ]
    }
   ],
   "source": [
    "from sklearn.model_selection import train_test_split\n",
    "from sklearn.linear_model import LinearRegression\n",
    "from sklearn.metrics import mean_squared_error, r2_score\n",
    "from sklearn.preprocessing import StandardScaler\n",
    "\n",
    "X = df_processed[['month_count', 'storey', 'remaining_lease_months', 'floor_area_sqm']]\n",
    "y = df_processed['resale_price_thousand']\n",
    "\n",
    "X_train, X_test, y_train, y_test = train_test_split(X, y, test_size=0.2, random_state=42)\n",
    "\n",
    "scaler = StandardScaler()\n",
    "X_train = scaler.fit_transform(X_train)\n",
    "\n",
    "model = LinearRegression()\n",
    "model.fit(X_train, y_train)\n",
    "\n",
    "X_test = scaler.transform(X_test)\n",
    "\n",
    "y_pred = model.predict(X_test)\n",
    "mse = mean_squared_error(y_test, y_pred)\n",
    "r2 = r2_score(y_test, y_pred)\n",
    "\n",
    "print(f'Mean Squared Error: {mse}')\n",
    "print(f'R^2 Score: {r2}')"
   ]
  },
  {
   "cell_type": "code",
   "execution_count": 71,
   "id": "e85b2de6",
   "metadata": {},
   "outputs": [
    {
     "data": {
      "text/plain": [
       "<matplotlib.collections.PathCollection at 0x22b0597b390>"
      ]
     },
     "execution_count": 71,
     "metadata": {},
     "output_type": "execute_result"
    },
    {
     "data": {
      "image/png": "[encoded data removed]",
      "text/plain": [
       "<Figure size 640x480 with 1 Axes>"
      ]
     },
     "metadata": {},
     "output_type": "display_data"
    }
   ],
   "source": [
    "plt.scatter(y_test, y_pred, alpha=0.5)"
   ]
  },
  {
   "cell_type": "code",
   "execution_count": 69,
   "id": "d303bf5a",
   "metadata": {},
   "outputs": [
    {
     "data": {
      "text/html": [
       "<div>\n",
       "<style scoped>\n",
       "    .dataframe tbody tr th:only-of-type {\n",
       "        vertical-align: middle;\n",
       "    }\n",
       "\n",
       "    .dataframe tbody tr th {\n",
       "        vertical-align: top;\n",
       "    }\n",
       "\n",
       "    .dataframe thead th {\n",
       "        text-align: right;\n",
       "    }\n",
       "</style>\n",
       "<table border=\"1\" class=\"dataframe\">\n",
       "  <thead>\n",
       "    <tr style=\"text-align: right;\">\n",
       "      <th></th>\n",
       "      <th>month_count</th>\n",
       "      <th>storey</th>\n",
       "      <th>remaining_lease_months</th>\n",
       "      <th>floor_area_sqm</th>\n",
       "      <th>resale_price_thousand</th>\n",
       "    </tr>\n",
       "  </thead>\n",
       "  <tbody>\n",
       "    <tr>\n",
       "      <th>month_count</th>\n",
       "      <td>1.000000</td>\n",
       "      <td>-0.011322</td>\n",
       "      <td>0.036047</td>\n",
       "      <td>0.043754</td>\n",
       "      <td>-0.380608</td>\n",
       "    </tr>\n",
       "    <tr>\n",
       "      <th>storey</th>\n",
       "      <td>-0.011322</td>\n",
       "      <td>1.000000</td>\n",
       "      <td>0.272975</td>\n",
       "      <td>-0.014323</td>\n",
       "      <td>0.342462</td>\n",
       "    </tr>\n",
       "    <tr>\n",
       "      <th>remaining_lease_months</th>\n",
       "      <td>0.036047</td>\n",
       "      <td>0.272975</td>\n",
       "      <td>1.000000</td>\n",
       "      <td>0.110283</td>\n",
       "      <td>0.308257</td>\n",
       "    </tr>\n",
       "    <tr>\n",
       "      <th>floor_area_sqm</th>\n",
       "      <td>0.043754</td>\n",
       "      <td>-0.014323</td>\n",
       "      <td>0.110283</td>\n",
       "      <td>1.000000</td>\n",
       "      <td>0.578482</td>\n",
       "    </tr>\n",
       "    <tr>\n",
       "      <th>resale_price_thousand</th>\n",
       "      <td>-0.380608</td>\n",
       "      <td>0.342462</td>\n",
       "      <td>0.308257</td>\n",
       "      <td>0.578482</td>\n",
       "      <td>1.000000</td>\n",
       "    </tr>\n",
       "  </tbody>\n",
       "</table>\n",
       "</div>"
      ],
      "text/plain": [
       "                        month_count    storey  remaining_lease_months  \\\n",
       "month_count                1.000000 -0.011322                0.036047   \n",
       "storey                    -0.011322  1.000000                0.272975   \n",
       "remaining_lease_months     0.036047  0.272975                1.000000   \n",
       "floor_area_sqm             0.043754 -0.014323                0.110283   \n",
       "resale_price_thousand     -0.380608  0.342462                0.308257   \n",
       "\n",
       "                        floor_area_sqm  resale_price_thousand  \n",
       "month_count                   0.043754              -0.380608  \n",
       "storey                       -0.014323               0.342462  \n",
       "remaining_lease_months        0.110283               0.308257  \n",
       "floor_area_sqm                1.000000               0.578482  \n",
       "resale_price_thousand         0.578482               1.000000  "
      ]
     },
     "execution_count": 69,
     "metadata": {},
     "output_type": "execute_result"
    }
   ],
   "source": [
    "df_processed.corr()"
   ]
  },
  {
   "cell_type": "code",
   "execution_count": null,
   "id": "43b78df4",
   "metadata": {},
   "outputs": [],
   "source": []
  }
 ],
 "metadata": {
  "kernelspec": {
   "display_name": "venv",
   "language": "python",
   "name": "python3"
  },
  "language_info": {
   "codemirror_mode": {
    "name": "ipython",
    "version": 3
   },
   "file_extension": ".py",
   "mimetype": "text/x-python",
   "name": "python",
   "nbconvert_exporter": "python",
   "pygments_lexer": "ipython3",
   "version": "3.13.5"
  }
 },
 "nbformat": 4,
 "nbformat_minor": 5
}
