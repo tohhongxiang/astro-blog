{
 "cells": [
  {
   "cell_type": "markdown",
   "id": "6394cf17",
   "metadata": {},
   "source": [
    "# Problem Set 1 Question 1e\n",
    "\n",
    "We extract out the utilities provided from the problem set here"
   ]
  },
  {
   "cell_type": "markdown",
   "id": "cf1bebf3",
   "metadata": {},
   "source": []
  }
 ],
 "metadata": {
  "language_info": {
   "name": "python"
  }
 },
 "nbformat": 4,
 "nbformat_minor": 5
}
